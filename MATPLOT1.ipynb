{
 "cells": [
  {
   "cell_type": "markdown",
   "metadata": {},
   "source": [
    "## MATPLOT ASSIGNMENT -1 "
   ]
  },
  {
   "cell_type": "markdown",
   "metadata": {},
   "source": [
    "Q1: What is Matplotlib? Why is it used? Name five plots that can be plotted using the Pyplot module of\n",
    "Matplotlib."
   ]
  },
  {
   "cell_type": "markdown",
   "metadata": {},
   "source": [
    "Matplotlib is a popular Python library used for creating static, interactive, and animated visualizations in various formats. It provides a wide range of functions and tools for creating different types of plots and graphs. Matplotlib is widely used in data analysis, scientific computing, and data visualization due to its flexibility and ease of use.\n",
    "\n",
    "Key features and uses of Matplotlib:\n",
    "\n",
    "> Data Visualization: Matplotlib allows you to create a wide variety of plots and charts, making it easier to understand and interpret data.\n",
    "\n",
    "> Publication-Ready Graphs: Matplotlib provides options to customize plots extensively, making it suitable for creating publication-quality figures.\n",
    "\n",
    "> Integration with NumPy: It seamlessly integrates with NumPy, which allows for efficient data manipulation and analysis.\n",
    "\n",
    "> Support for Different Plot Types: Matplotlib supports various types of plots, including line plots, scatter plots, bar plots, histograms, pie charts, etc.\n",
    "\n",
    "> Interactivity: It can be used with interactive environments like Jupyter notebooks, which enhances the data exploration experience.\n",
    "\n",
    "Five plots that can be plotted using the Pyplot module of Matplotlib:\n",
    "\n",
    "> Line Plot: Used to visualize the relationship between two variables, where one is plotted on the x-axis and the other on the y-axis. It's commonly used for time series data or to show the trend of a variable.\n",
    "\n",
    "> Scatter Plot: Represents individual data points on a 2D plane, where each point is represented by a dot. Scatter plots are used to identify patterns and relationships between two variables.\n",
    "\n",
    "> Bar Plot: Displays categorical data using rectangular bars with lengths proportional to the values they represent. It's used to compare different categories or groups.\n",
    "\n",
    "> Histogram: Represents the distribution of a continuous numerical variable. It divides the data into bins and shows the frequency of each bin with bars.\n",
    "\n",
    "> Pie Chart: Represents data as a circle divided into sectors, with each sector representing a portion of the whole. It's useful for showing proportions or percentages of different categories in a dataset.\n",
    "\n",
    "> Matplotlib's Pyplot module simplifies the process of creating these plots by providing a high-level interface to the library. It enables users to quickly generate plots with minimal code."
   ]
  },
  {
   "cell_type": "markdown",
   "metadata": {},
   "source": [
    "Q2: What is a scatter plot? Use the following code to generate data for x and y. Using this generated data\n",
    "plot a scatter plot.\n",
    "import numpy as np\n",
    "np.random.seed(3)\n",
    "x = 3 + np.random.normal(0, 2, 50)\n",
    "y = 3 + np.random.normal(0, 2, len(x))\n",
    "Note: Also add title, xlabel, and ylabel to the plot."
   ]
  },
  {
   "cell_type": "markdown",
   "metadata": {},
   "source": [
    "ans: A scatter plot is a type of plot that represents individual data points as dots on a 2-dimensional plane. It is used to visualize the relationship between two variables and identify patterns or correlations between them. Scatter plots are especially helpful in exploring the distribution of data points and spotting outliers.\n",
    "\n",
    "Let's use the given code to generate data for x and y and then create a scatter plot using Matplotlib:"
   ]
  },
  {
   "cell_type": "code",
   "execution_count": null,
   "metadata": {},
   "outputs": [],
   "source": [
    "import numpy as np\n",
    "import matplotlib.pyplot as plt\n",
    "\n",
    "# Set a seed for reproducibility\n",
    "np.random.seed(3)\n",
    "\n",
    "# Generate data for x and y\n",
    "x = 3 + np.random.normal(0, 2, 50)\n",
    "y = 3 + np.random.normal(0, 2, len(x))\n",
    "\n",
    "# Create the scatter plot\n",
    "plt.scatter(x, y)\n",
    "\n",
    "# Add title, xlabel, and ylabel to the plot\n",
    "plt.title(\"Scatter Plot\")\n",
    "plt.xlabel(\"X-axis\")\n",
    "plt.ylabel(\"Y-axis\")\n",
    "\n",
    "# Show the plot\n",
    "plt.show()\n"
   ]
  },
  {
   "cell_type": "markdown",
   "metadata": {},
   "source": [
    "Q3: Why is the subplot() function used? Draw four line plots using the subplot() function.\n",
    "Use the following data:\n",
    "import numpy as np\n",
    "For line 1: x = np.array([0, 1, 2, 3, 4, 5]) and y = np.array([0, 100, 200, 300, 400, 500])\n",
    "For line 2: x = np.array([0, 1, 2, 3, 4, 5]) and y = np.array([50, 20, 40, 20, 60, 70])\n",
    "For line 3: x = np.array([0, 1, 2, 3, 4, 5]) and y = np.array([10, 20, 30, 40, 50, 60])\n",
    "For line 4: x = np.array([0, 1, 2, 3, 4, 5]) and y = np.array([200, 350, 250, 550, 450, 150])"
   ]
  },
  {
   "cell_type": "markdown",
   "metadata": {},
   "source": [
    "ans: The subplot() function in Matplotlib is used to create multiple plots within the same figure. It allows you to arrange plots in a grid-like structure, where you can specify the number of rows, number of columns, and the position of each plot in the grid. This is useful when you want to compare multiple plots side by side or visualize different aspects of data in separate subplots.\n",
    "\n",
    "Let's use the subplot() function to draw four line plots using the provided data:"
   ]
  },
  {
   "cell_type": "code",
   "execution_count": null,
   "metadata": {},
   "outputs": [],
   "source": [
    "import numpy as np\n",
    "import matplotlib.pyplot as plt\n",
    "\n",
    "# Data for line 1\n",
    "x1 = np.array([0, 1, 2, 3, 4, 5])\n",
    "y1 = np.array([0, 100, 200, 300, 400, 500])\n",
    "\n",
    "# Data for line 2\n",
    "x2 = np.array([0, 1, 2, 3, 4, 5])\n",
    "y2 = np.array([50, 20, 40, 20, 60, 70])\n",
    "\n",
    "# Data for line 3\n",
    "x3 = np.array([0, 1, 2, 3, 4, 5])\n",
    "y3 = np.array([10, 20, 30, 40, 50, 60])\n",
    "\n",
    "# Data for line 4\n",
    "x4 = np.array([0, 1, 2, 3, 4, 5])\n",
    "y4 = np.array([200, 350, 250, 550, 450, 150])\n",
    "\n",
    "# Create a 2x2 grid for subplots\n",
    "plt.subplot(2, 2, 1)\n",
    "plt.plot(x1, y1)\n",
    "plt.title(\"Line Plot 1\")\n",
    "\n",
    "plt.subplot(2, 2, 2)\n",
    "plt.plot(x2, y2)\n",
    "plt.title(\"Line Plot 2\")\n",
    "\n",
    "plt.subplot(2, 2, 3)\n",
    "plt.plot(x3, y3)\n",
    "plt.title(\"Line Plot 3\")\n",
    "\n",
    "plt.subplot(2, 2, 4)\n",
    "plt.plot(x4, y4)\n",
    "plt.title(\"Line Plot 4\")\n",
    "\n",
    "# Adjust layout to prevent overlapping of titles\n",
    "plt.tight_layout()\n",
    "\n",
    "# Show the plots\n",
    "plt.show()\n"
   ]
  },
  {
   "cell_type": "markdown",
   "metadata": {},
   "source": [
    "In this code, we create a 2x2 grid of subplots using the plt.subplot() function. The three arguments for this function represent the number of rows, number of columns, and the index of the current plot. We then use plt.plot() to draw each line plot and plt.title() to add a title to each subplot. The plt.tight_layout() function is used to adjust the layout and prevent overlapping of titles. The resulting figure will display four line plots arranged in a 2x2 grid."
   ]
  },
  {
   "cell_type": "markdown",
   "metadata": {},
   "source": [
    "Q4: What is a bar plot? Why is it used? Using the following data plot a bar plot and a horizontal bar plot.\n",
    "import numpy as np\n",
    "company = np.array([\"Apple\", \"Microsoft\", \"Google\", \"AMD\"])\n",
    "profit = np.array([3000, 8000, 1000, 10000])"
   ]
  },
  {
   "cell_type": "markdown",
   "metadata": {},
   "source": [
    "A bar plot is a type of chart that represents categorical data with rectangular bars. The length of each bar is proportional to the value it represents. Bar plots are commonly used to compare different categories or groups, showing their individual values or totals.\n",
    "\n",
    "Bar plots are useful for the following purposes:\n",
    "\n",
    "Comparing Quantities: Bar plots make it easy to compare the magnitude of different categories visually.\n",
    "\n",
    "Visualizing Distributions: They are effective in displaying the distribution of data for different groups or categories.\n",
    "\n",
    "Identifying Outliers: Bar plots help to identify outliers or extreme values in a dataset.\n",
    "\n",
    "Presenting Categorical Data: Bar plots are suitable for presenting data that can be divided into distinct categories.\n",
    "\n",
    "Now, let's use the given data to create a bar plot and a horizontal bar plot:"
   ]
  },
  {
   "cell_type": "code",
   "execution_count": null,
   "metadata": {},
   "outputs": [],
   "source": [
    "import numpy as np\n",
    "import matplotlib.pyplot as plt\n",
    "\n",
    "company = np.array([\"Apple\", \"Microsoft\", \"Google\", \"AMD\"])\n",
    "profit = np.array([3000, 8000, 1000, 10000])\n",
    "\n",
    "# Create a vertical bar plot\n",
    "plt.bar(company, profit)\n",
    "plt.xlabel(\"Company\")\n",
    "plt.ylabel(\"Profit\")\n",
    "plt.title(\"Vertical Bar Plot\")\n",
    "\n",
    "# Show the vertical bar plot\n",
    "plt.show()\n",
    "\n",
    "# Create a horizontal bar plot\n",
    "plt.barh(company, profit)\n",
    "plt.xlabel(\"Profit\")\n",
    "plt.ylabel(\"Company\")\n",
    "plt.title(\"Horizontal Bar Plot\")\n",
    "\n",
    "# Show the horizontal bar plot\n",
    "plt.show()\n"
   ]
  },
  {
   "cell_type": "markdown",
   "metadata": {},
   "source": [
    "In this code, we use plt.bar() to create a vertical bar plot and plt.barh() to create a horizontal bar plot. We specify the company names as the x-axis (category) and the corresponding profit values as the y-axis (height of the bars). We also add labels to the x-axis and y-axis and provide titles for both plots. The two plots will be displayed one after the other when you run the code."
   ]
  },
  {
   "cell_type": "markdown",
   "metadata": {},
   "source": [
    "Q5: What is a box plot? Why is it used? Using the following data plot a box plot.\n",
    "box1 = np.random.normal(100, 10, 200)\n",
    "box2 = np.random.normal(90, 20, 200)"
   ]
  },
  {
   "cell_type": "markdown",
   "metadata": {},
   "source": [
    "Ans: A box plot, also known as a box-and-whisker plot, is a statistical visualization that provides a graphical representation of the distribution of a dataset. It shows the median, quartiles, and potential outliers in a concise manner. The box in the plot represents the interquartile range (IQR), which spans from the 25th percentile (Q1) to the 75th percentile (Q3). The line inside the box represents the median. The \"whiskers\" extend from the box to the minimum and maximum values within a certain range (usually 1.5 times the IQR). Any data points outside this range are considered outliers and are plotted as individual points.\n",
    "\n",
    "Box plots are used for the following purposes:\n",
    "\n",
    "Visualizing Data Distribution: Box plots help in understanding the central tendency and spread of data.\n",
    "\n",
    "Comparing Distributions: They are useful for comparing the distributions of multiple datasets side by side.\n",
    "\n",
    "Identifying Outliers: Box plots make it easy to identify potential outliers in the data.\n",
    "\n",
    "Handling Skewed Data: Box plots are robust to extreme values and work well with skewed data.\n",
    "\n",
    "Now, let's create a box plot for the given data:"
   ]
  },
  {
   "cell_type": "code",
   "execution_count": null,
   "metadata": {},
   "outputs": [],
   "source": [
    "import numpy as np\n",
    "import matplotlib.pyplot as plt\n",
    "\n",
    "# Generating the data\n",
    "box1 = np.random.normal(100, 10, 200)\n",
    "box2 = np.random.normal(90, 20, 200)\n",
    "\n",
    "# Combining the data for plotting\n",
    "data = [box1, box2]\n",
    "\n",
    "# Creating the box plot\n",
    "plt.boxplot(data)\n",
    "plt.xticks([1, 2], ['Box 1', 'Box 2'])\n",
    "plt.xlabel(\"Box\")\n",
    "plt.ylabel(\"Values\")\n",
    "plt.title(\"Box Plot\")\n",
    "\n",
    "# Show the plot\n",
    "plt.show()\n"
   ]
  },
  {
   "cell_type": "markdown",
   "metadata": {},
   "source": [
    "In this code, we use plt.boxplot() to create the box plot for the data from box1 and box2. We combine the data into a list data to pass to the plt.boxplot() function. The x-axis is labeled with 'Box 1' and 'Box 2', representing the two datasets. The y-axis represents the values in the dataset. The box plot will display the distribution of each dataset side by side, making it easy to compare their central tendencies and spreads."
   ]
  },
  {
   "cell_type": "markdown",
   "metadata": {},
   "source": []
  },
  {
   "cell_type": "markdown",
   "metadata": {},
   "source": []
  },
  {
   "cell_type": "markdown",
   "metadata": {},
   "source": []
  },
  {
   "cell_type": "markdown",
   "metadata": {},
   "source": []
  },
  {
   "cell_type": "markdown",
   "metadata": {},
   "source": []
  },
  {
   "cell_type": "markdown",
   "metadata": {},
   "source": []
  },
  {
   "cell_type": "markdown",
   "metadata": {},
   "source": []
  }
 ],
 "metadata": {
  "kernelspec": {
   "display_name": "gpu4",
   "language": "python",
   "name": "gpu4"
  },
  "language_info": {
   "name": "python",
   "version": "3.6.13"
  },
  "orig_nbformat": 4
 },
 "nbformat": 4,
 "nbformat_minor": 2
}
