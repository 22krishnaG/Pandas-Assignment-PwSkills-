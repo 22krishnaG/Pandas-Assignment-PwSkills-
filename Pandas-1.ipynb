{
 "cells": [
  {
   "cell_type": "markdown",
   "metadata": {},
   "source": [
    "## ASSIGNMENT PANDAS - 1"
   ]
  },
  {
   "cell_type": "markdown",
   "metadata": {},
   "source": [
    "QUE-1 Create a Pandas Series that contains the following data: 4, 8, 15, 16, 23, and 42. Then, print the series."
   ]
  },
  {
   "cell_type": "code",
   "execution_count": 17,
   "metadata": {},
   "outputs": [],
   "source": [
    "import pandas as pd "
   ]
  },
  {
   "cell_type": "code",
   "execution_count": 18,
   "metadata": {},
   "outputs": [
    {
     "name": "stdout",
     "output_type": "stream",
     "text": [
      "0     4\n",
      "1     8\n",
      "2    15\n",
      "3    16\n",
      "4    23\n",
      "5    42\n",
      "dtype: int64\n"
     ]
    }
   ],
   "source": [
    "# Create the Pandas Series\n",
    "data = [4, 8, 15, 16, 23, 42]\n",
    "series = pd.Series(data)\n",
    "\n",
    "# Print the Series\n",
    "print(series)"
   ]
  },
  {
   "cell_type": "markdown",
   "metadata": {},
   "source": [
    "Q2. Create a variable of list type containing 10 elements in it, and apply pandas.Series function on the\n",
    "variable print it.\n"
   ]
  },
  {
   "cell_type": "code",
   "execution_count": 19,
   "metadata": {},
   "outputs": [
    {
     "name": "stdout",
     "output_type": "stream",
     "text": [
      "0     1\n",
      "1     2\n",
      "2     3\n",
      "3     4\n",
      "4     5\n",
      "5     6\n",
      "6     7\n",
      "7     8\n",
      "8     9\n",
      "9    10\n",
      "dtype: int64\n"
     ]
    }
   ],
   "source": [
    "# Create a list with 10 elements\n",
    "my_list = [1, 2, 3, 4, 5, 6, 7, 8, 9, 10]\n",
    "\n",
    "# Convert the list to a Pandas Series\n",
    "series = pd.Series(my_list)\n",
    "\n",
    "# Print the Series\n",
    "print(series)"
   ]
  },
  {
   "cell_type": "markdown",
   "metadata": {},
   "source": [
    "Q3. Create a Pandas DataFrame that contains the following data:\n",
    "NAME : Alice , Bob, Claire \n",
    "Age : 25 , 30, 27\n",
    "gender : FEmale , male , female"
   ]
  },
  {
   "cell_type": "code",
   "execution_count": 20,
   "metadata": {},
   "outputs": [
    {
     "name": "stdout",
     "output_type": "stream",
     "text": [
      "     NAME  Age  gender\n",
      "0   Alice   25  Female\n",
      "1     Bob   30    Male\n",
      "2  Claire   27  Female\n"
     ]
    }
   ],
   "source": [
    "# Create a dictionary with the data\n",
    "data = {\n",
    "    'NAME': ['Alice', 'Bob', 'Claire'],\n",
    "    'Age': [25, 30, 27],\n",
    "    'gender': ['Female', 'Male', 'Female']\n",
    "}\n",
    "\n",
    "# Create the DataFrame\n",
    "df = pd.DataFrame(data)\n",
    "\n",
    "# Print the DataFrame\n",
    "print(df)"
   ]
  },
  {
   "cell_type": "markdown",
   "metadata": {},
   "source": [
    "Q4. What is ‘DataFrame’ in pandas and how is it different from pandas.series? Explain with an example.\n",
    "\n",
    "ANS : In Pandas, a DataFrame is a two-dimensional tabular data structure that can store and manipulate data in rows and columns, similar to a spreadsheet or a SQL table. It is one of the most commonly used data structures in Pandas and provides powerful functionalities for data analysis and manipulation. Each column in a DataFrame is a Pandas Series, which means a DataFrame can be seen as a collection of Series objects with a shared index.\n",
    "\n",
    "A Pandas Series, on the other hand, is a one-dimensional labeled array that can store data of any data type (e.g., integers, floats, strings, etc.). A Series has an index associated with each element, which allows for easy and efficient data access and alignment. A DataFrame, as mentioned earlier, can be thought of as a collection of Series objects where each Series represents a column in the DataFrame."
   ]
  },
  {
   "cell_type": "code",
   "execution_count": 21,
   "metadata": {},
   "outputs": [
    {
     "name": "stdout",
     "output_type": "stream",
     "text": [
      "Pandas Series:\n",
      "0    10\n",
      "1    20\n",
      "2    30\n",
      "3    40\n",
      "4    50\n",
      "dtype: int64\n"
     ]
    }
   ],
   "source": [
    "import pandas as pd\n",
    "\n",
    "# Example 1: Creating a Pandas Series\n",
    "data = [10, 20, 30, 40, 50]\n",
    "series = pd.Series(data)\n",
    "\n",
    "# Print the Series\n",
    "print(\"Pandas Series:\")\n",
    "print(series)\n"
   ]
  },
  {
   "cell_type": "markdown",
   "metadata": {},
   "source": [
    "In this example, we create a Pandas Series named series with five integer elements and a default numerical index."
   ]
  },
  {
   "cell_type": "code",
   "execution_count": 22,
   "metadata": {},
   "outputs": [
    {
     "name": "stdout",
     "output_type": "stream",
     "text": [
      "\n",
      "Pandas DataFrame:\n",
      "     Name  Age  Gender\n",
      "0   Alice   25  Female\n",
      "1     Bob   30    Male\n",
      "2  Claire   27  Female\n"
     ]
    }
   ],
   "source": [
    "# Example 2: Creating a Pandas DataFrame\n",
    "data = {\n",
    "    'Name': ['Alice', 'Bob', 'Claire'],\n",
    "    'Age': [25, 30, 27],\n",
    "    'Gender': ['Female', 'Male', 'Female']\n",
    "}\n",
    "df = pd.DataFrame(data)\n",
    "\n",
    "# Print the DataFrame\n",
    "print(\"\\nPandas DataFrame:\")\n",
    "print(df)\n"
   ]
  },
  {
   "cell_type": "markdown",
   "metadata": {},
   "source": [
    "In this example, we create a Pandas DataFrame named df with three columns: 'Name', 'Age', and 'Gender', each represented by a Pandas Series. The DataFrame has a default numerical index, and each column (Series) has its respective data.\n",
    "\n",
    "In summary, a Pandas Series is a one-dimensional labeled array, while a Pandas DataFrame is a two-dimensional tabular data structure that holds multiple Series objects. DataFrame allows you to organize and manipulate data in a more structured and versatile way, making it the primary choice for most data analysis tasks."
   ]
  },
  {
   "cell_type": "markdown",
   "metadata": {},
   "source": [
    "Q5. What are some common functions you can use to manipulate data in a Pandas DataFrame? Can\n",
    "you give an example of when you might use one of these functions?"
   ]
  },
  {
   "cell_type": "markdown",
   "metadata": {},
   "source": [
    "Ans : Pandas provides a wide range of functions to manipulate data in a DataFrame. Some common functions include:\n",
    "\n",
    "head() and tail(): These functions are used to view the first few rows (head()) or the last few rows (tail()) of the DataFrame. They are useful for a quick glance at the data."
   ]
  },
  {
   "cell_type": "code",
   "execution_count": 23,
   "metadata": {},
   "outputs": [
    {
     "name": "stdout",
     "output_type": "stream",
     "text": [
      "     Name  Age  Gender\n",
      "0   Alice   25  Female\n",
      "1     Bob   30    Male\n",
      "2  Claire   27  Female\n",
      "    Name  Age  Gender\n",
      "3  David   22    Male\n",
      "4    Eva   28  Female\n"
     ]
    }
   ],
   "source": [
    "'''head() and tail()': These functions are used to view the first few rows (head()) or the last few rows (tail()) of the DataFrame. They are useful for a quick glance at the data.'''\n",
    "\n",
    "import pandas as pd\n",
    "\n",
    "# Create a DataFrame\n",
    "data = {\n",
    "    'Name': ['Alice', 'Bob', 'Claire', 'David', 'Eva'],\n",
    "    'Age': [25, 30, 27, 22, 28],\n",
    "    'Gender': ['Female', 'Male', 'Female', 'Male', 'Female']\n",
    "}\n",
    "df = pd.DataFrame(data)\n",
    "\n",
    "# Display the first 3 rows using head()\n",
    "print(df.head(3))\n",
    "\n",
    "# Display the last 2 rows using tail()\n",
    "print(df.tail(2))\n"
   ]
  },
  {
   "cell_type": "markdown",
   "metadata": {},
   "source": [
    "info(): This function provides a concise summary of the DataFrame, including the data types, non-null counts, and memory usage. It is helpful for understanding the structure of the DataFrame."
   ]
  },
  {
   "cell_type": "code",
   "execution_count": 24,
   "metadata": {},
   "outputs": [
    {
     "name": "stdout",
     "output_type": "stream",
     "text": [
      "<class 'pandas.core.frame.DataFrame'>\n",
      "RangeIndex: 5 entries, 0 to 4\n",
      "Data columns (total 3 columns):\n",
      " #   Column  Non-Null Count  Dtype \n",
      "---  ------  --------------  ----- \n",
      " 0   Name    5 non-null      object\n",
      " 1   Age     5 non-null      int64 \n",
      " 2   Gender  5 non-null      object\n",
      "dtypes: int64(1), object(2)\n",
      "memory usage: 248.0+ bytes\n",
      "None\n"
     ]
    }
   ],
   "source": [
    "# Display the information about the DataFrame\n",
    "print(df.info())\n"
   ]
  },
  {
   "cell_type": "markdown",
   "metadata": {},
   "source": [
    "describe(): This function generates descriptive statistics of the numerical columns in the DataFrame, such as count, mean, standard deviation, minimum, 25th percentile, median, 75th percentile, and maximum."
   ]
  },
  {
   "cell_type": "code",
   "execution_count": 25,
   "metadata": {},
   "outputs": [
    {
     "name": "stdout",
     "output_type": "stream",
     "text": [
      "            Age\n",
      "count   5.00000\n",
      "mean   26.40000\n",
      "std     3.04959\n",
      "min    22.00000\n",
      "25%    25.00000\n",
      "50%    27.00000\n",
      "75%    28.00000\n",
      "max    30.00000\n"
     ]
    }
   ],
   "source": [
    "# Get descriptive statistics of numerical columns\n",
    "print(df.describe())\n"
   ]
  },
  {
   "cell_type": "markdown",
   "metadata": {},
   "source": [
    "sort_values(): This function sorts the DataFrame based on the values of one or more columns. It's useful for organizing the data in a specific order."
   ]
  },
  {
   "cell_type": "code",
   "execution_count": 26,
   "metadata": {},
   "outputs": [
    {
     "name": "stdout",
     "output_type": "stream",
     "text": [
      "     Name  Age  Gender\n",
      "3   David   22    Male\n",
      "0   Alice   25  Female\n",
      "2  Claire   27  Female\n",
      "4     Eva   28  Female\n",
      "1     Bob   30    Male\n"
     ]
    }
   ],
   "source": [
    "# Sort the DataFrame based on the 'Age' column in ascending order\n",
    "df_sorted = df.sort_values(by='Age')\n",
    "print(df_sorted)\n"
   ]
  },
  {
   "cell_type": "markdown",
   "metadata": {},
   "source": [
    "\n",
    "groupby(): This function allows you to group the data based on one or more columns and perform aggregate operations on the groups. It is commonly used in data analysis to summarize data."
   ]
  },
  {
   "cell_type": "code",
   "execution_count": 27,
   "metadata": {},
   "outputs": [
    {
     "name": "stdout",
     "output_type": "stream",
     "text": [
      "Gender\n",
      "Female    26.666667\n",
      "Male      26.000000\n",
      "Name: Age, dtype: float64\n"
     ]
    }
   ],
   "source": [
    "# Group the data based on 'Gender' and calculate the average age for each group\n",
    "grouped_data = df.groupby('Gender')['Age'].mean()\n",
    "print(grouped_data)\n"
   ]
  },
  {
   "cell_type": "markdown",
   "metadata": {},
   "source": [
    "drop(): This function allows you to remove rows or columns from the DataFrame. It's handy for eliminating unwanted data."
   ]
  },
  {
   "cell_type": "code",
   "execution_count": 28,
   "metadata": {},
   "outputs": [
    {
     "name": "stdout",
     "output_type": "stream",
     "text": [
      "     Name  Age\n",
      "0   Alice   25\n",
      "1     Bob   30\n",
      "2  Claire   27\n",
      "3   David   22\n",
      "4     Eva   28\n"
     ]
    }
   ],
   "source": [
    "# Drop the 'Gender' column from the DataFrame\n",
    "df_without_gender = df.drop('Gender', axis=1)\n",
    "print(df_without_gender)\n"
   ]
  },
  {
   "cell_type": "markdown",
   "metadata": {},
   "source": [
    "These are just a few examples of common functions used to manipulate data in a Pandas DataFrame. Depending on your specific data analysis needs, Pandas offers a wide range of powerful functions to explore, filter, transform, and analyze your data efficiently."
   ]
  },
  {
   "cell_type": "markdown",
   "metadata": {},
   "source": [
    "Q6. Which of the following is mutable in nature Series, DataFrame, Panel?\n",
    "\n",
    "Ans: Among the options given (Series, DataFrame, Panel), both Series and DataFrame are mutable in nature.\n",
    "\n",
    "Series: A Pandas Series is mutable, meaning you can modify the values in the Series after it has been created. You can change, add, or delete elements in a Series.\n",
    "\n",
    "DataFrame: Similarly, a Pandas DataFrame is also mutable. You can modify the contents of a DataFrame, add or remove columns, update values, and perform various data manipulation operations.\n",
    "\n",
    "However, it's worth noting that the concept of \"Panel\" in Pandas has been deprecated, and its functionality has been integrated into the MultiIndex feature of DataFrames. As of Pandas version 0.25.0, Panels are no longer recommended for use, and you should use MultiIndex DataFrames or other data structures based on your specific requirements.\n",
    "\n",
    "In summary, both Series and DataFrame are mutable in nature, but Panels have been deprecated in favor of MultiIndex DataFrames.\n"
   ]
  },
  {
   "cell_type": "markdown",
   "metadata": {},
   "source": [
    "Q7. Create a DataFrame using multiple Series. Explain with an example.\n",
    "\n",
    "Ans : To create a DataFrame using multiple Series, you can pass a dictionary where each key-value pair corresponds to a column name and the corresponding Pandas Series, respectively. The DataFrame will be constructed using the Series provided in the dictionary, and the index of each Series will be aligned to create the rows of the DataFrame.\n",
    "\n",
    "Let's create a DataFrame using multiple Series with an example:"
   ]
  },
  {
   "cell_type": "code",
   "execution_count": 29,
   "metadata": {},
   "outputs": [
    {
     "name": "stdout",
     "output_type": "stream",
     "text": [
      "     Name  Age  Gender\n",
      "0   Alice   25  Female\n",
      "1     Bob   30    Male\n",
      "2  Claire   27  Female\n"
     ]
    }
   ],
   "source": [
    "import pandas as pd\n",
    "\n",
    "# Create the first Series for 'Name'\n",
    "names = pd.Series(['Alice', 'Bob', 'Claire'])\n",
    "\n",
    "# Create the second Series for 'Age'\n",
    "ages = pd.Series([25, 30, 27])\n",
    "\n",
    "# Create the third Series for 'Gender'\n",
    "genders = pd.Series(['Female', 'Male', 'Female'])\n",
    "\n",
    "# Create the DataFrame using the dictionary\n",
    "data = {\n",
    "    'Name': names,\n",
    "    'Age': ages,\n",
    "    'Gender': genders\n",
    "}\n",
    "df = pd.DataFrame(data)\n",
    "\n",
    "# Print the DataFrame\n",
    "print(df)\n",
    "\n"
   ]
  },
  {
   "cell_type": "markdown",
   "metadata": {},
   "source": [
    "In this example, we first created three separate Pandas Series named names, ages, and genders, each containing data for the 'Name', 'Age', and 'Gender' columns, respectively.\n",
    "\n",
    "Next, we created a dictionary named data, where the keys are the column names ('Name', 'Age', and 'Gender') and the values are the corresponding Series. Then, we passed this dictionary to the pd.DataFrame() function to create the DataFrame df.\n",
    "\n",
    "As a result, the DataFrame df was constructed using the data from the individual Series, and the index of each Series was aligned to form the rows of the DataFrame. The DataFrame df now contains three columns: 'Name', 'Age', and 'Gender', with their respective data.\n"
   ]
  },
  {
   "cell_type": "markdown",
   "metadata": {},
   "source": []
  },
  {
   "cell_type": "markdown",
   "metadata": {},
   "source": []
  }
 ],
 "metadata": {
  "kernelspec": {
   "display_name": "gpu4",
   "language": "python",
   "name": "gpu4"
  },
  "language_info": {
   "codemirror_mode": {
    "name": "ipython",
    "version": 3
   },
   "file_extension": ".py",
   "mimetype": "text/x-python",
   "name": "python",
   "nbconvert_exporter": "python",
   "pygments_lexer": "ipython3",
   "version": "3.6.13"
  },
  "orig_nbformat": 4
 },
 "nbformat": 4,
 "nbformat_minor": 2
}
