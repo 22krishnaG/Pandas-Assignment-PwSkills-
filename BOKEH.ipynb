{
 "cells": [
  {
   "cell_type": "markdown",
   "metadata": {},
   "source": [
    "## BOKEH ASSIGNMENT"
   ]
  },
  {
   "cell_type": "markdown",
   "metadata": {},
   "source": [
    "Q1. How can you create a Bokeh plot using Python code?\n",
    "Q2. What are glyphs in Bokeh, and how can you add them to a Bokeh plot? Explain with an example.\n",
    "Q3. How can you customize the appearance of a Bokeh plot, including the axes, title, and legend?\n",
    "Q4. What is a Bokeh server, and how can you use it to create interactive plots that can be updated in\n",
    "real time?\n",
    "Q5. How can you embed a Bokeh plot into a web page or dashboard using Flask or Django?"
   ]
  },
  {
   "cell_type": "markdown",
   "metadata": {},
   "source": [
    "Q1. How can you create a Bokeh plot using Python code?\n",
    "\n",
    "To create a Bokeh plot using Python code, you need to follow these steps:\n",
    "\n",
    "Import the necessary modules from the Bokeh library.\n",
    "Prepare your data that you want to visualize.\n",
    "Create a figure using the figure() function, specifying plot attributes like plot width, height, title, axis labels, etc.\n",
    "Add one or more glyphs (visual markers) to the figure using functions like circle(), line(), square(), etc., which represent the data points on the plot.\n",
    "Customize the appearance of the plot using various properties and attributes.\n",
    "Show or save the plot using show() or save() functions.\n",
    "Here's a simple example of creating a Bokeh plot with a circle glyph:"
   ]
  },
  {
   "cell_type": "code",
   "execution_count": null,
   "metadata": {},
   "outputs": [],
   "source": [
    "from bokeh.plotting import figure, show\n",
    "\n",
    "# Sample data\n",
    "x = [1, 2, 3, 4, 5]\n",
    "y = [6, 7, 2, 4, 5]\n",
    "\n",
    "# Create a figure\n",
    "p = figure(title=\"Scatter Plot Example\", x_axis_label=\"X-axis\", y_axis_label=\"Y-axis\", plot_width=400, plot_height=300)\n",
    "\n",
    "# Add a circle glyph to the figure\n",
    "p.circle(x, y, size=10, color=\"blue\", alpha=0.8)\n",
    "\n",
    "# Show the plot\n",
    "show(p)\n"
   ]
  },
  {
   "cell_type": "markdown",
   "metadata": {},
   "source": [
    "Q2. What are glyphs in Bokeh, and how can you add them to a Bokeh plot? Explain with an example.\n",
    "\n",
    "In Bokeh, glyphs are visual shapes or markers that represent data points on a plot. Each glyph corresponds to a data source containing the coordinates and other attributes of the points to be plotted. Common glyph types include circles, squares, lines, bars, and more.\n",
    "\n",
    "You can add glyphs to a Bokeh plot using various glyph functions, such as circle(), square(), line(), bar(), etc. Each glyph function takes data as arguments and creates the corresponding visual representation on the plot.\n",
    "\n",
    "Here's an example of adding two types of glyphs, circles, and lines, to a Bokeh plot:"
   ]
  },
  {
   "cell_type": "code",
   "execution_count": null,
   "metadata": {},
   "outputs": [],
   "source": [
    "from bokeh.plotting import figure, show\n",
    "\n",
    "# Sample data\n",
    "x = [1, 2, 3, 4, 5]\n",
    "y1 = [6, 7, 2, 4, 5]\n",
    "y2 = [2, 5, 8, 3, 6]\n",
    "\n",
    "# Create a figure\n",
    "p = figure(title=\"Glyph Example\", x_axis_label=\"X-axis\", y_axis_label=\"Y-axis\", plot_width=400, plot_height=300)\n",
    "\n",
    "# Add circle glyph\n",
    "p.circle(x, y1, size=10, color=\"blue\", alpha=0.8, legend_label=\"Circle Glyph\")\n",
    "\n",
    "# Add line glyph\n",
    "p.line(x, y2, line_width=2, color=\"red\", alpha=0.8, legend_label=\"Line Glyph\")\n",
    "\n",
    "# Add legend\n",
    "p.legend.location = \"top_left\"\n",
    "\n",
    "# Show the plot\n",
    "show(p)\n"
   ]
  },
  {
   "cell_type": "markdown",
   "metadata": {},
   "source": [
    "Q3. How can you customize the appearance of a Bokeh plot, including the axes, title, and legend?\n",
    "\n",
    "You can customize the appearance of a Bokeh plot using various attributes and properties available in the figure object. Here are some examples of how to customize different aspects of a Bokeh plot:\n",
    "\n",
    "To customize axes:"
   ]
  },
  {
   "cell_type": "code",
   "execution_count": null,
   "metadata": {},
   "outputs": [],
   "source": [
    "# Change axis labels and font size\n",
    "p.xaxis.axis_label = \"X-axis\"\n",
    "p.yaxis.axis_label = \"Y-axis\"\n",
    "p.axis.axis_label_text_font_size = \"12pt\"\n",
    "\n",
    "# Change axis major tick font size\n",
    "p.axis.major_label_text_font_size = \"10pt\"\n",
    "\n",
    "# Change axis line color\n",
    "p.axis.axis_line_color = \"blue\"\n"
   ]
  },
  {
   "cell_type": "markdown",
   "metadata": {},
   "source": [
    "To customize title:"
   ]
  },
  {
   "cell_type": "code",
   "execution_count": null,
   "metadata": {},
   "outputs": [],
   "source": [
    "# Change title and font size\n",
    "p.title.text = \"Customized Title\"\n",
    "p.title.text_font_size = \"16pt\"\n"
   ]
  },
  {
   "cell_type": "markdown",
   "metadata": {},
   "source": [
    "To customize the legend:"
   ]
  },
  {
   "cell_type": "code",
   "execution_count": null,
   "metadata": {},
   "outputs": [],
   "source": [
    "# Change legend location\n",
    "p.legend.location = \"top_left\"\n",
    "\n",
    "# Change legend font size\n",
    "p.legend.label_text_font_size = \"12pt\"\n",
    "\n",
    "# Hide the legend\n",
    "p.legend.visible = False\n"
   ]
  },
  {
   "cell_type": "markdown",
   "metadata": {},
   "source": [
    "Q4. What is a Bokeh server, and how can you use it to create interactive plots that can be updated in real-time?\n",
    "\n",
    "A Bokeh server is a Python process that allows you to build interactive web applications and dashboards with Bokeh plots that can be updated in real-time. It provides a way to add interactivity and responsiveness to your plots by using widgets and callbacks.\n",
    "\n",
    "To use the Bokeh server, you need to follow these steps:\n",
    "\n",
    "Define your Bokeh plot and widgets as usual, but instead of calling show(), wrap your plot and widgets inside a curdoc().add_root() function call.\n",
    "Use the curdoc().add_periodic_callback() function to schedule updates at a specific interval, or use on_change callbacks to trigger updates based on widget changes or other events.\n",
    "Start the Bokeh server by running the bokeh serve command with your Python script as an argument.\n",
    "Here's a simple example of how to use the Bokeh server:"
   ]
  },
  {
   "cell_type": "code",
   "execution_count": null,
   "metadata": {},
   "outputs": [],
   "source": [
    "from bokeh.plotting import figure, curdoc\n",
    "from bokeh.layouts import column\n",
    "from bokeh.models import Slider\n",
    "\n",
    "# Create a figure and a circle glyph\n",
    "p = figure(plot_width=400, plot_height=300)\n",
    "circle = p.circle(x=[1, 2, 3], y=[4, 5, 6], size=20)\n",
    "\n",
    "# Create a slider widget\n",
    "slider = Slider(start=1, end=10, step=1, value=1, title=\"Factor\")\n",
    "\n",
    "# Define a callback to update the circle glyph\n",
    "def update(attr, old, new):\n",
    "    circle.size = slider.value\n",
    "\n",
    "# Attach the callback to the slider widget\n"
   ]
  },
  {
   "cell_type": "markdown",
   "metadata": {},
   "source": [
    "Q5. How can you embed a Bokeh plot into a web page or dashboard using Flask or Django?"
   ]
  },
  {
   "cell_type": "markdown",
   "metadata": {},
   "source": [
    "To embed a Bokeh plot into a web page or dashboard using Flask or Django, you can follow these general steps:\n",
    "\n",
    "Create a Bokeh plot using Bokeh library as usual.\n",
    "Use Bokeh's json_item() function to convert the Bokeh plot into a JSON representation.\n",
    "Pass the JSON representation to the web page or dashboard template in Flask/Django.\n",
    "Render the web page or dashboard template with the Bokeh plot JSON representation.\n",
    "Here's a step-by-step guide on how to do this:\n",
    "\n",
    "Using Flask:\n",
    "\n",
    "Install the required libraries:"
   ]
  },
  {
   "cell_type": "code",
   "execution_count": null,
   "metadata": {},
   "outputs": [],
   "source": [
    "pip install Flask\n",
    "pip install bokeh\n"
   ]
  },
  {
   "cell_type": "markdown",
   "metadata": {},
   "source": [
    "Create a Flask app and import the necessary modules:"
   ]
  },
  {
   "cell_type": "code",
   "execution_count": null,
   "metadata": {},
   "outputs": [],
   "source": [
    "from flask import Flask, render_template\n",
    "from bokeh.embed import json_item\n",
    "from bokeh.plotting import figure\n",
    "from bokeh.resources import CDN\n",
    "from bokeh.util.browser import view\n",
    "\n",
    "app = Flask(__name__)\n"
   ]
  },
  {
   "cell_type": "markdown",
   "metadata": {},
   "source": [
    "Create a function to generate the Bokeh plot:"
   ]
  },
  {
   "cell_type": "code",
   "execution_count": null,
   "metadata": {},
   "outputs": [],
   "source": [
    "def create_bokeh_plot():\n",
    "    # Your Bokeh plot creation code here\n",
    "    p = figure(plot_width=400, plot_height=300)\n",
    "    p.circle(x=[1, 2, 3], y=[4, 5, 6], size=20)\n",
    "    return p\n"
   ]
  },
  {
   "cell_type": "markdown",
   "metadata": {},
   "source": [
    "Define a route for the web page:"
   ]
  },
  {
   "cell_type": "code",
   "execution_count": null,
   "metadata": {},
   "outputs": [],
   "source": [
    "@app.route('/')\n",
    "def index():\n",
    "    # Get the Bokeh plot\n",
    "    plot = create_bokeh_plot()\n",
    "    \n",
    "    # Convert the plot to JSON\n",
    "    bokeh_plot_json = json_item(plot)\n",
    "\n",
    "    return render_template('index.html', bokeh_plot_json=bokeh_plot_json)\n"
   ]
  },
  {
   "cell_type": "markdown",
   "metadata": {},
   "source": [
    "Create an HTML template (index.html) to display the Bokeh plot:"
   ]
  },
  {
   "cell_type": "code",
   "execution_count": null,
   "metadata": {},
   "outputs": [],
   "source": [
    "<!DOCTYPE html>\n",
    "<html>\n",
    "<head>\n",
    "    <title>Bokeh Plot in Flask</title>\n",
    "    {{ bokeh_plot_json | safe }}\n",
    "    {{ bokeh_script | safe }}\n",
    "    {{ bokeh_css | safe }}\n",
    "</head>\n",
    "<body>\n",
    "    <!-- Put other content here if needed -->\n",
    "</body>\n",
    "</html>\n"
   ]
  },
  {
   "cell_type": "markdown",
   "metadata": {},
   "source": [
    "Run the Flask app:"
   ]
  },
  {
   "cell_type": "code",
   "execution_count": null,
   "metadata": {},
   "outputs": [],
   "source": [
    "if __name__ == '__main__':\n",
    "    app.run(debug=True)\n"
   ]
  },
  {
   "cell_type": "markdown",
   "metadata": {},
   "source": [
    "Using Django:\n",
    "\n",
    "Install the required libraries:"
   ]
  },
  {
   "cell_type": "markdown",
   "metadata": {},
   "source": [
    "Create a Django app and import the necessary modules:\n",
    "\n",
    "Create a Bokeh plot using Bokeh library as usual.\n",
    "\n",
    "Use Bokeh's json_item() function to convert the Bokeh plot into a JSON representation.\n",
    "\n",
    "Pass the JSON representation to the web page or dashboard template in Flask/Django.\n",
    "\n",
    "Render the web page or dashboard template with the Bokeh plot JSON representation.\n",
    "\n",
    "Here's a step-by-step guide on how to do this:\n",
    "\n",
    "Using Flask:\n",
    "\n",
    "Install the required libraries:"
   ]
  },
  {
   "cell_type": "markdown",
   "metadata": {},
   "source": [
    "pip install Flask\n",
    "pip install bokeh\n"
   ]
  },
  {
   "cell_type": "markdown",
   "metadata": {},
   "source": [
    "Create a Flask app and import the necessary module\n",
    "from flask import Flask, render_template\n",
    "from bokeh.embed import json_item\n",
    "from bokeh.plotting import figure\n",
    "from bokeh.resources import CDN\n",
    "from bokeh.util.browser import view\n",
    "\n",
    "app = Flask(__name__)\n",
    "\n",
    "Create a function to generate the Bokeh plot:\n",
    "\n",
    "def create_bokeh_plot():\n",
    "    # Your Bokeh plot creation code here\n",
    "    p = figure(plot_width=400, plot_height=300)\n",
    "    p.circle(x=[1, 2, 3], y=[4, 5, 6], size=20)\n",
    "    return p\n",
    "\n",
    "Define a route for the web page:"
   ]
  },
  {
   "cell_type": "code",
   "execution_count": null,
   "metadata": {},
   "outputs": [],
   "source": [
    "@app.route('/')\n",
    "def index():\n",
    "    # Get the Bokeh plot\n",
    "    plot = create_bokeh_plot()\n",
    "    \n",
    "    # Convert the plot to JSON\n",
    "    bokeh_plot_json = json_item(plot)\n",
    "\n",
    "    return render_template('index.html', bokeh_plot_json=bokeh_plot_json)\n"
   ]
  },
  {
   "cell_type": "markdown",
   "metadata": {},
   "source": [
    "Create an HTML template (index.html) to display the Bokeh plot:"
   ]
  },
  {
   "cell_type": "code",
   "execution_count": null,
   "metadata": {},
   "outputs": [],
   "source": [
    "<!DOCTYPE html>\n",
    "<html>\n",
    "<head>\n",
    "    <title>Bokeh Plot in Flask</title>\n",
    "    {{ bokeh_plot_json | safe }}\n",
    "    {{ bokeh_script | safe }}\n",
    "    {{ bokeh_css | safe }}\n",
    "</head>\n",
    "<body>\n",
    "    <!-- Put other content here if needed -->\n",
    "</body>\n",
    "</html>\n"
   ]
  },
  {
   "cell_type": "markdown",
   "metadata": {},
   "source": [
    "Run the Flask app:\n",
    "if __name__ == '__main__':\n",
    "    app.run(debug=True)\n"
   ]
  },
  {
   "cell_type": "markdown",
   "metadata": {},
   "source": [
    "Using Django:\n",
    "\n",
    "Install the required libraries:\n",
    "pip install Django\n",
    "pip install bokeh\n"
   ]
  },
  {
   "cell_type": "markdown",
   "metadata": {},
   "source": [
    "reate a Django app and import the necessary modules:"
   ]
  },
  {
   "cell_type": "code",
   "execution_count": null,
   "metadata": {},
   "outputs": [],
   "source": [
    "from django.shortcuts import render\n",
    "from bokeh.embed import json_item\n",
    "from bokeh.plotting import figure\n",
    "from bokeh.resources import CDN\n",
    "from bokeh.util.browser import view\n"
   ]
  },
  {
   "cell_type": "markdown",
   "metadata": {},
   "source": [
    "Create a function to generate the Bokeh plot:"
   ]
  },
  {
   "cell_type": "code",
   "execution_count": null,
   "metadata": {},
   "outputs": [],
   "source": [
    "def create_bokeh_plot():\n",
    "    # Your Bokeh plot creation code here\n",
    "    p = figure(plot_width=400, plot_height=300)\n",
    "    p.circle(x=[1, 2, 3], y=[4, 5, 6], size=20)\n",
    "    return p\n"
   ]
  },
  {
   "cell_type": "markdown",
   "metadata": {},
   "source": [
    "Define a view to render the web page:"
   ]
  },
  {
   "cell_type": "code",
   "execution_count": null,
   "metadata": {},
   "outputs": [],
   "source": [
    "def index(request):\n",
    "    # Get the Bokeh plot\n",
    "    plot = create_bokeh_plot()\n",
    "\n",
    "    # Convert the plot to JSON\n",
    "    bokeh_plot_json = json_item(plot)\n",
    "\n",
    "    return render(request, 'index.html', {'bokeh_plot_json': bokeh_plot_json})\n"
   ]
  },
  {
   "cell_type": "markdown",
   "metadata": {},
   "source": [
    "Create an HTML template (index.html) to display the Bokeh plot:"
   ]
  },
  {
   "cell_type": "markdown",
   "metadata": {},
   "source": [
    "<!DOCTYPE html>\n",
    "<html>\n",
    "<head>\n",
    "    <title>Bokeh Plot in Django</title>\n",
    "    {{ bokeh_plot_json | safe }}\n",
    "    {{ bokeh_script | safe }}\n",
    "    {{ bokeh_css | safe }}\n",
    "</head>\n",
    "<body>\n",
    "    <!-- Put other content here if needed -->\n",
    "</body>\n",
    "</html>\n"
   ]
  },
  {
   "cell_type": "markdown",
   "metadata": {},
   "source": [
    "Add the Django app URL to the project's urls.py:"
   ]
  },
  {
   "cell_type": "code",
   "execution_count": null,
   "metadata": {},
   "outputs": [],
   "source": [
    "from django.urls import path\n",
    "from . import views\n",
    "\n",
    "urlpatterns = [\n",
    "    path('', views.index, name='index'),\n",
    "    # Add other URL patterns as needed\n",
    "]\n"
   ]
  },
  {
   "cell_type": "markdown",
   "metadata": {},
   "source": [
    "Run the Django development server:"
   ]
  },
  {
   "cell_type": "code",
   "execution_count": null,
   "metadata": {},
   "outputs": [],
   "source": [
    "python manage.py runserver\n"
   ]
  },
  {
   "cell_type": "markdown",
   "metadata": {},
   "source": [
    "Now, when you visit the specified URL in your browser (e.g., http://127.0.0.1:8000/), you should see the Bokeh plot embedded in the web page."
   ]
  }
 ],
 "metadata": {
  "kernelspec": {
   "display_name": "gpu4",
   "language": "python",
   "name": "gpu4"
  },
  "language_info": {
   "codemirror_mode": {
    "name": "ipython",
    "version": 3
   },
   "file_extension": ".py",
   "mimetype": "text/x-python",
   "name": "python",
   "nbconvert_exporter": "python",
   "pygments_lexer": "ipython3",
   "version": "3.6.13"
  },
  "orig_nbformat": 4
 },
 "nbformat": 4,
 "nbformat_minor": 2
}
